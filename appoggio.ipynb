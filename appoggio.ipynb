{
 "cells": [
  {
   "cell_type": "code",
   "execution_count": null,
   "metadata": {},
   "outputs": [],
   "source": [
    "from PIL import Image\n",
    "\n",
    "def convert_jpg_to_ico(source_path, target_path):\n",
    "    # Carica l'immagine JPG\n",
    "    img = Image.open(source_path)\n",
    "    \n",
    "    # Converti l'immagine in formato ICO\n",
    "    img.save(target_path, format='ICO', sizes=[(256, 256)])\n",
    "\n",
    "# Percorso del file sorgente JPG e del file destinazione ICO\n",
    "source_path = r\"C:\\Users\\galloni\\Downloads\\Foto\\foto.jpg\"\n",
    "target_path = r\"C:\\Users\\galloni\\Downloads\\Foto\\foto.ico\"\n",
    "\n",
    "# Chiama la funzione di conversione\n",
    "convert_jpg_to_ico(source_path, target_path)"
   ]
  }
 ],
 "metadata": {
  "language_info": {
   "name": "python"
  }
 },
 "nbformat": 4,
 "nbformat_minor": 2
}
